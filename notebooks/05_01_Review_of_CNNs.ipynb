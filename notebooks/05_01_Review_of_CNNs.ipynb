{
 "cells": [
  {
   "cell_type": "markdown",
   "id": "f279aef1",
   "metadata": {},
   "source": [
    "# Lecture 5: Supervised learning with CNNs\n",
    "## Part 1: Motivation\n",
    "### Review of CNNs\n",
    "- Explanation of CNN components: convolutional layers, pooling, activation functions, etc.\n",
    "- Applications in music multi-label tasks: genre classification, instrument recognition, etc.\n",
    "\n",
    "### Train a small autotagging model\n",
    "In this section, we will train a small convolutional neural network (CNN) to perform music autotagging using a toy dataset.\n",
    "\n",
    "#### Steps:\n",
    "1. Load and preprocess the dataset\n",
    "2. Define the CNN model\n",
    "3. Train the model\n",
    "4. Evaluate the model\n"
   ]
  },
  {
   "cell_type": "code",
   "execution_count": null,
   "id": "d3574e49",
   "metadata": {},
   "outputs": [],
   "source": [
    "# Import necessary libraries\n",
    "import torch\n",
    "import torch.nn as nn\n",
    "import torch.optim as optim\n",
    "from torchvision import datasets, transforms\n",
    "import matplotlib.pyplot as plt\n"
   ]
  },
  {
   "cell_type": "markdown",
   "id": "6c6a994b",
   "metadata": {},
   "source": [
    "### Step 1: Load and preprocess the dataset\n",
    "We will use a toy dataset (e.g., ESC-10 or a similar audio dataset). The dataset will be preprocessed using PyTorch's DataLoader utilities.\n"
   ]
  },
  {
   "cell_type": "code",
   "execution_count": null,
   "id": "e13d08ca",
   "metadata": {},
   "outputs": [],
   "source": [
    "# Define dataset transformations\n",
    "transform = transforms.Compose([\n",
    "    transforms.ToTensor(),\n",
    "    transforms.Normalize((0.5,), (0.5,))\n",
    "])\n",
    "\n",
    "# Load the dataset\n",
    "train_dataset = datasets.FakeData(transform=transform)  # Replace FakeData with actual dataset\n",
    "train_loader = torch.utils.data.DataLoader(train_dataset, batch_size=16, shuffle=True)\n"
   ]
  },
  {
   "cell_type": "markdown",
   "id": "128599fd",
   "metadata": {},
   "source": [
    "### Step 2: Define the CNN model\n",
    "We will define a simple CNN architecture suitable for music autotagging.\n"
   ]
  },
  {
   "cell_type": "code",
   "execution_count": null,
   "id": "16cd4e60",
   "metadata": {},
   "outputs": [],
   "source": [
    "class SimpleCNN(nn.Module):\n",
    "    def __init__(self):\n",
    "        super(SimpleCNN, self).__init__()\n",
    "        self.conv1 = nn.Conv2d(1, 16, kernel_size=3, stride=1, padding=1)\n",
    "        self.pool = nn.MaxPool2d(kernel_size=2, stride=2)\n",
    "        self.conv2 = nn.Conv2d(16, 32, kernel_size=3, stride=1, padding=1)\n",
    "        self.fc1 = nn.Linear(32 * 8 * 8, 128)\n",
    "        self.fc2 = nn.Linear(128, 10)  # Assuming 10 classes\n",
    "\n",
    "    def forward(self, x):\n",
    "        x = self.pool(F.relu(self.conv1(x)))\n",
    "        x = self.pool(F.relu(self.conv2(x)))\n",
    "        x = x.view(-1, 32 * 8 * 8)\n",
    "        x = F.relu(self.fc1(x))\n",
    "        x = self.fc2(x)\n",
    "        return x\n",
    "\n",
    "# Instantiate the model\n",
    "model = SimpleCNN()\n"
   ]
  },
  {
   "cell_type": "markdown",
   "id": "23555686",
   "metadata": {},
   "source": [
    "### Step 3: Train the model\n",
    "Set up the training loop with loss functions and optimizers.\n"
   ]
  },
  {
   "cell_type": "code",
   "execution_count": null,
   "id": "867d6833",
   "metadata": {},
   "outputs": [],
   "source": [
    "# Define loss function and optimizer\n",
    "criterion = nn.CrossEntropyLoss()\n",
    "optimizer = optim.Adam(model.parameters(), lr=0.001)\n",
    "\n",
    "# Training loop\n",
    "for epoch in range(10):  # Number of epochs\n",
    "    for i, (images, labels) in enumerate(train_loader):\n",
    "        # Zero the parameter gradients\n",
    "        optimizer.zero_grad()\n",
    "        # Forward pass\n",
    "        outputs = model(images)\n",
    "        loss = criterion(outputs, labels)\n",
    "        # Backward pass and optimize\n",
    "        loss.backward()\n",
    "        optimizer.step()\n",
    "    print(f'Epoch [{epoch+1}/10], Loss: {loss.item():.4f}')\n"
   ]
  },
  {
   "cell_type": "markdown",
   "id": "075eaf75",
   "metadata": {},
   "source": [
    "### Step 4: Evaluate the model\n",
    "Assess the performance of the model using appropriate metrics.\n"
   ]
  },
  {
   "cell_type": "code",
   "execution_count": null,
   "id": "bedba574",
   "metadata": {},
   "outputs": [],
   "source": [
    "# Evaluation (Placeholder)\n",
    "# Note: Replace with actual evaluation code\n",
    "def evaluate_model():\n",
    "    pass\n"
   ]
  }
 ],
 "metadata": {
  "kernelspec": {
   "display_name": "Python 3 (ipykernel)",
   "language": "python",
   "name": "python3"
  },
  "language_info": {
   "codemirror_mode": {
    "name": "ipython",
    "version": 3
   },
   "file_extension": ".py",
   "mimetype": "text/x-python",
   "name": "python",
   "nbconvert_exporter": "python",
   "pygments_lexer": "ipython3",
   "version": "3.12.11"
  }
 },
 "nbformat": 4,
 "nbformat_minor": 5
}
