{
 "cells": [
  {
   "cell_type": "markdown",
   "id": "93205c8c",
   "metadata": {},
   "source": [
    "# Lecture 5: Supervised learning with CNNs\n",
    "## Part 2: Multiclass Classification\n",
    "### Motivation\n",
    "- Understand the difference between softmax and sigmoid activations\n",
    "- Learn about cross-entropy and binary cross-entropy loss functions\n",
    "\n",
    "### Exercise\n",
    "Implement the two loss functions and compare their use cases."
   ]
  },
  {
   "cell_type": "code",
   "execution_count": null,
   "id": "cbe3f774",
   "metadata": {},
   "outputs": [],
   "source": [
    "# Import necessary libraries\n",
    "import torch\n",
    "import torch.nn as nn\n",
    "\n",
    "# Define a simple example\n",
    "logits = torch.tensor([[2.0, 0.5, 0.1], [1.0, 3.0, 0.2]])\n",
    "labels = torch.tensor([0, 1])\n"
   ]
  },
  {
   "cell_type": "markdown",
   "id": "fe04856f",
   "metadata": {},
   "source": [
    "### Implement Softmax Activation\n",
    "Softmax is used for multiclass classification problems."
   ]
  },
  {
   "cell_type": "code",
   "execution_count": null,
   "id": "052cdd01",
   "metadata": {},
   "outputs": [],
   "source": [
    "# Apply softmax activation\n",
    "softmax = nn.Softmax(dim=1)\n",
    "probs = softmax(logits)\n",
    "print(probs)"
   ]
  },
  {
   "cell_type": "markdown",
   "id": "4f70c054",
   "metadata": {},
   "source": [
    "### Implement Cross-Entropy Loss\n",
    "Cross-entropy loss is used in combination with softmax for multiclass classification."
   ]
  },
  {
   "cell_type": "code",
   "execution_count": null,
   "id": "bbe90456",
   "metadata": {},
   "outputs": [],
   "source": [
    "# Compute cross-entropy loss\n",
    "criterion = nn.CrossEntropyLoss()\n",
    "loss = criterion(logits, labels)\n",
    "print('Cross-Entropy Loss:', loss.item())"
   ]
  },
  {
   "cell_type": "markdown",
   "id": "7a1da404",
   "metadata": {},
   "source": [
    "### Implement Sigmoid Activation and Binary Cross-Entropy Loss\n",
    "Sigmoid is used for multilabel classification problems."
   ]
  },
  {
   "cell_type": "code",
   "execution_count": null,
   "id": "20ae711c",
   "metadata": {},
   "outputs": [],
   "source": [
    "# Apply sigmoid activation\n",
    "sigmoid = nn.Sigmoid()\n",
    "probs = sigmoid(logits)\n",
    "print(probs)"
   ]
  },
  {
   "cell_type": "code",
   "execution_count": null,
   "id": "f1f612e2",
   "metadata": {},
   "outputs": [],
   "source": [
    "# Compute binary cross-entropy loss\n",
    "criterion = nn.BCEWithLogitsLoss()\n",
    "# Prepare labels for binary cross-entropy\n",
    "labels = torch.tensor([[1, 0, 0], [0, 1, 0]])\n",
    "loss = criterion(logits, labels.float())\n",
    "print('Binary Cross-Entropy Loss:', loss.item())"
   ]
  }
 ],
 "metadata": {
  "kernelspec": {
   "display_name": "Python 3 (ipykernel)",
   "language": "python",
   "name": "python3"
  },
  "language_info": {
   "codemirror_mode": {
    "name": "ipython",
    "version": 3
   },
   "file_extension": ".py",
   "mimetype": "text/x-python",
   "name": "python",
   "nbconvert_exporter": "python",
   "pygments_lexer": "ipython3",
   "version": "3.12.11"
  }
 },
 "nbformat": 4,
 "nbformat_minor": 5
}
