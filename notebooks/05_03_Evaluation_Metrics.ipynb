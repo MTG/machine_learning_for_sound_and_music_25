{
 "cells": [
  {
   "cell_type": "markdown",
   "id": "b3c5d58c",
   "metadata": {},
   "source": [
    "# Lecture 5: Supervised learning with CNNs\n",
    "## Part 3: Evaluation Metrics\n",
    "### Motivation\n",
    "- Understand the importance of evaluation metrics\n",
    "- Learn about Accuracy, ROC-AUC, and PR-AUC\n",
    "\n",
    "### Exercise\n",
    "Implement functions to compute these metrics and apply them to a toy dataset."
   ]
  },
  {
   "cell_type": "code",
   "execution_count": null,
   "id": "7645e38c",
   "metadata": {},
   "outputs": [],
   "source": [
    "# Import necessary libraries\n",
    "from sklearn.metrics import accuracy_score, roc_auc_score, precision_recall_curve\n",
    "import numpy as np\n",
    "\n",
    "# Define example predictions and labels\n",
    "y_true = np.array([0, 1, 1, 0, 1])\n",
    "y_pred = np.array([0, 1, 0, 0, 1])\n",
    "y_scores = np.array([0.1, 0.9, 0.4, 0.3, 0.8])"
   ]
  },
  {
   "cell_type": "markdown",
   "id": "a8b44f52",
   "metadata": {},
   "source": [
    "### Implement Accuracy\n",
    "Accuracy is the simplest metric to evaluate classification models."
   ]
  },
  {
   "cell_type": "code",
   "execution_count": null,
   "id": "fd9eed40",
   "metadata": {},
   "outputs": [],
   "source": [
    "# Compute accuracy\n",
    "accuracy = accuracy_score(y_true, y_pred)\n",
    "print('Accuracy:', accuracy)"
   ]
  },
  {
   "cell_type": "markdown",
   "id": "843afe8a",
   "metadata": {},
   "source": [
    "### Implement ROC-AUC\n",
    "ROC-AUC evaluates the model's ability to distinguish between classes."
   ]
  },
  {
   "cell_type": "code",
   "execution_count": null,
   "id": "e6830269",
   "metadata": {},
   "outputs": [],
   "source": [
    "# Compute ROC-AUC\n",
    "roc_auc = roc_auc_score(y_true, y_scores)\n",
    "print('ROC-AUC:', roc_auc)"
   ]
  },
  {
   "cell_type": "markdown",
   "id": "afe6d8ec",
   "metadata": {},
   "source": [
    "### Implement PR-AUC\n",
    "PR-AUC focuses on the precision-recall tradeoff."
   ]
  },
  {
   "cell_type": "code",
   "execution_count": null,
   "id": "244db3c1",
   "metadata": {},
   "outputs": [],
   "source": [
    "# Compute PR-AUC\n",
    "precision, recall, _ = precision_recall_curve(y_true, y_scores)\n",
    "print('Precision:', precision)\n",
    "print('Recall:', recall)"
   ]
  }
 ],
 "metadata": {
  "kernelspec": {
   "display_name": "Python 3 (ipykernel)",
   "language": "python",
   "name": "python3"
  },
  "language_info": {
   "codemirror_mode": {
    "name": "ipython",
    "version": 3
   },
   "file_extension": ".py",
   "mimetype": "text/x-python",
   "name": "python",
   "nbconvert_exporter": "python",
   "pygments_lexer": "ipython3",
   "version": "3.12.11"
  }
 },
 "nbformat": 4,
 "nbformat_minor": 5
}
